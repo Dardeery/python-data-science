{
 "cells": [
  {
   "cell_type": "markdown",
   "metadata": {
    "_cell_guid": "90809e9c-4260-4176-9755-c8ffe895200c",
    "_uuid": "63e66d89f579c8c62e03817e1deef53670596298"
   },
   "source": [
    "# The TLC trip record data\n",
    "\n",
    "<img align=\"left\" src=\"files/tlc.png\">"
   ]
  },
  {
   "cell_type": "markdown",
   "metadata": {
    "_cell_guid": "6e0fc577-af9f-4c9e-bbda-52ec1bc4e8fa",
    "_uuid": "a6dd33a3cb72a3f91d244ad657f5a10aa6df5d22"
   },
   "source": [
    "Data source: http://www.nyc.gov/html/tlc/html/about/trip_record_data.shtml  \n",
    "\n",
    "This notebook heavily borrows from https://www.kaggle.com/kartikkannapur/nyc-taxi-trips-exploratory-data-analysis/  "
   ]
  },
  {
   "cell_type": "markdown",
   "metadata": {},
   "source": [
    "## Contents:\n",
    "\n",
    "1. [Data Set - Overview](#1.-Data-Set-Overview)\n",
    "2. [Missing Values](#2.-Missing-Values)\n",
    "3. [Data Exploration](#3.-Data-Exploration)"
   ]
  },
  {
   "cell_type": "markdown",
   "metadata": {
    "_cell_guid": "4f8d7d30-83d3-4546-88b2-2c5dfda293e1",
    "_uuid": "b42e6850cfa8fb559761dc9e05b1437ccc30587c"
   },
   "source": [
    "# 1. The Data Set\n",
    "\n",
    "Records of taxi trips in New York City including pickup time, geo-coordinates, the number of passengers, and various other variables."
   ]
  },
  {
   "cell_type": "markdown",
   "metadata": {
    "_cell_guid": "7b346d28-7013-451f-b711-1f51870e47ca",
    "_uuid": "81f410bf63b671cdab7d4f783af84940fad637f9"
   },
   "source": [
    "### Data fields\n",
    "\n",
    "* id - a unique identifier for each trip\n",
    "* vendor_id - a code indicating the provider associated with the trip record\n",
    "* pickup_datetime - date and time when the meter was engaged\n",
    "* dropoff_datetime - date and time when the meter was disengaged\n",
    "* passenger_count - the number of passengers in the vehicle (driver entered value)\n",
    "* pickup_longitude - the longitude where the meter was engaged\n",
    "* pickup_latitude - the latitude where the meter was engaged\n",
    "* dropoff_longitude - the longitude where the meter was disengaged\n",
    "* dropoff_latitude - the latitude where the meter was disengaged\n",
    "* store_and_fwd_flag - This flag indicates whether the trip record was held in vehicle memory before sending to the vendor because the vehicle did not have a connection to the server - Y=store and forward; N=not a store and forward trip\n",
    "* trip_duration - duration of the trip in seconds"
   ]
  },
  {
   "cell_type": "markdown",
   "metadata": {},
   "source": [
    "### Task 1:\n",
    "\n",
    "Brainstorm possible use cases for such a data set."
   ]
  },
  {
   "cell_type": "markdown",
   "metadata": {},
   "source": []
  },
  {
   "cell_type": "code",
   "execution_count": 10,
   "metadata": {
    "_cell_guid": "1f61d683-31d0-4dad-a744-4913c97830a6",
    "_execution_state": "idle",
    "_uuid": "5a82f35527edc03fb04df624e0223ebf42379544"
   },
   "outputs": [],
   "source": [
    "import datetime\n",
    "import os\n",
    "import sys\n",
    "import time\n",
    "\n",
    "import matplotlib.pyplot as plt\n",
    "import numpy as np\n",
    "import pandas as pd\n",
    "import seaborn as sns"
   ]
  },
  {
   "cell_type": "code",
   "execution_count": 11,
   "metadata": {
    "_cell_guid": "cf5fc594-1231-40a9-9836-638cfe41cdb9",
    "_execution_state": "idle",
    "_uuid": "62c5f4718a73570da2e6cd2490a3b3fb3d4c9f1f"
   },
   "outputs": [],
   "source": [
    "# read data from csv\n",
    "df_train = pd.read_csv(\"./data/train.csv\")\n",
    "df_test = pd.read_csv(\"./data/test.csv\")"
   ]
  },
  {
   "cell_type": "markdown",
   "metadata": {
    "_cell_guid": "3ccbff9a-bcc0-4cd8-8ad5-b24635d5cfd3",
    "_uuid": "e47f29fe4bc6df54ceb0524ad09290bc50962523"
   },
   "source": [
    "### Dataset Overview"
   ]
  },
  {
   "cell_type": "markdown",
   "metadata": {
    "_cell_guid": "57e7f81b-b092-452c-904c-e79d0cfe654f",
    "_uuid": "190d21dea6e4aa6a6031cd9bdf3cd55d34a032f9"
   },
   "source": [
    "#### Training set"
   ]
  },
  {
   "cell_type": "code",
   "execution_count": 12,
   "metadata": {
    "_cell_guid": "3613eac0-1850-4d43-b790-307a93adc5b9",
    "_execution_state": "idle",
    "_uuid": "fe79d94a242befd58729f31078f9e20cd56bf580"
   },
   "outputs": [
    {
     "name": "stdout",
     "output_type": "stream",
     "text": [
      "Total number of samples in train dataset:  1458644\n",
      "Number of columns in train dataset:  11\n"
     ]
    }
   ],
   "source": [
    "print(\"Total number of samples in train dataset: \", df_train.shape[0])\n",
    "print(\"Number of columns in train dataset: \", df_train.shape[1])"
   ]
  },
  {
   "cell_type": "code",
   "execution_count": 13,
   "metadata": {
    "_cell_guid": "ea9a79f8-0dbe-4169-b8a8-33f89d5dfd1d",
    "_execution_state": "idle",
    "_uuid": "ee0044dde651d8957201eb4f8f676128c886bbfc"
   },
   "outputs": [
    {
     "data": {
      "text/html": [
       "<div>\n",
       "<style scoped>\n",
       "    .dataframe tbody tr th:only-of-type {\n",
       "        vertical-align: middle;\n",
       "    }\n",
       "\n",
       "    .dataframe tbody tr th {\n",
       "        vertical-align: top;\n",
       "    }\n",
       "\n",
       "    .dataframe thead th {\n",
       "        text-align: right;\n",
       "    }\n",
       "</style>\n",
       "<table border=\"1\" class=\"dataframe\">\n",
       "  <thead>\n",
       "    <tr style=\"text-align: right;\">\n",
       "      <th></th>\n",
       "      <th>id</th>\n",
       "      <th>vendor_id</th>\n",
       "      <th>pickup_datetime</th>\n",
       "      <th>dropoff_datetime</th>\n",
       "      <th>passenger_count</th>\n",
       "      <th>pickup_longitude</th>\n",
       "      <th>pickup_latitude</th>\n",
       "      <th>dropoff_longitude</th>\n",
       "      <th>dropoff_latitude</th>\n",
       "      <th>store_and_fwd_flag</th>\n",
       "      <th>trip_duration</th>\n",
       "    </tr>\n",
       "  </thead>\n",
       "  <tbody>\n",
       "    <tr>\n",
       "      <th>0</th>\n",
       "      <td>id2875421</td>\n",
       "      <td>2</td>\n",
       "      <td>2016-03-14 17:24:55</td>\n",
       "      <td>2016-03-14 17:32:30</td>\n",
       "      <td>1</td>\n",
       "      <td>-73.982155</td>\n",
       "      <td>40.767937</td>\n",
       "      <td>-73.964630</td>\n",
       "      <td>40.765602</td>\n",
       "      <td>N</td>\n",
       "      <td>455</td>\n",
       "    </tr>\n",
       "    <tr>\n",
       "      <th>1</th>\n",
       "      <td>id2377394</td>\n",
       "      <td>1</td>\n",
       "      <td>2016-06-12 00:43:35</td>\n",
       "      <td>2016-06-12 00:54:38</td>\n",
       "      <td>1</td>\n",
       "      <td>-73.980415</td>\n",
       "      <td>40.738564</td>\n",
       "      <td>-73.999481</td>\n",
       "      <td>40.731152</td>\n",
       "      <td>N</td>\n",
       "      <td>663</td>\n",
       "    </tr>\n",
       "    <tr>\n",
       "      <th>2</th>\n",
       "      <td>id3858529</td>\n",
       "      <td>2</td>\n",
       "      <td>2016-01-19 11:35:24</td>\n",
       "      <td>2016-01-19 12:10:48</td>\n",
       "      <td>1</td>\n",
       "      <td>-73.979027</td>\n",
       "      <td>40.763939</td>\n",
       "      <td>-74.005333</td>\n",
       "      <td>40.710087</td>\n",
       "      <td>N</td>\n",
       "      <td>2124</td>\n",
       "    </tr>\n",
       "    <tr>\n",
       "      <th>3</th>\n",
       "      <td>id3504673</td>\n",
       "      <td>2</td>\n",
       "      <td>2016-04-06 19:32:31</td>\n",
       "      <td>2016-04-06 19:39:40</td>\n",
       "      <td>1</td>\n",
       "      <td>-74.010040</td>\n",
       "      <td>40.719971</td>\n",
       "      <td>-74.012268</td>\n",
       "      <td>40.706718</td>\n",
       "      <td>N</td>\n",
       "      <td>429</td>\n",
       "    </tr>\n",
       "  </tbody>\n",
       "</table>\n",
       "</div>"
      ],
      "text/plain": [
       "          id  vendor_id      pickup_datetime     dropoff_datetime  \\\n",
       "0  id2875421          2  2016-03-14 17:24:55  2016-03-14 17:32:30   \n",
       "1  id2377394          1  2016-06-12 00:43:35  2016-06-12 00:54:38   \n",
       "2  id3858529          2  2016-01-19 11:35:24  2016-01-19 12:10:48   \n",
       "3  id3504673          2  2016-04-06 19:32:31  2016-04-06 19:39:40   \n",
       "\n",
       "   passenger_count  pickup_longitude  pickup_latitude  dropoff_longitude  \\\n",
       "0                1        -73.982155        40.767937         -73.964630   \n",
       "1                1        -73.980415        40.738564         -73.999481   \n",
       "2                1        -73.979027        40.763939         -74.005333   \n",
       "3                1        -74.010040        40.719971         -74.012268   \n",
       "\n",
       "   dropoff_latitude store_and_fwd_flag  trip_duration  \n",
       "0         40.765602                  N            455  \n",
       "1         40.731152                  N            663  \n",
       "2         40.710087                  N           2124  \n",
       "3         40.706718                  N            429  "
      ]
     },
     "execution_count": 13,
     "metadata": {},
     "output_type": "execute_result"
    }
   ],
   "source": [
    "# peak\n",
    "df_train.head(4)"
   ]
  },
  {
   "cell_type": "code",
   "execution_count": 14,
   "metadata": {
    "_cell_guid": "5ea03170-e4c0-4546-a398-3f9cfd75c6d0",
    "_execution_state": "idle",
    "_uuid": "60b5ea1fa19e756b4dcc01cd47d75af49a31b5c4"
   },
   "outputs": [
    {
     "data": {
      "text/html": [
       "<div>\n",
       "<style scoped>\n",
       "    .dataframe tbody tr th:only-of-type {\n",
       "        vertical-align: middle;\n",
       "    }\n",
       "\n",
       "    .dataframe tbody tr th {\n",
       "        vertical-align: top;\n",
       "    }\n",
       "\n",
       "    .dataframe thead th {\n",
       "        text-align: right;\n",
       "    }\n",
       "</style>\n",
       "<table border=\"1\" class=\"dataframe\">\n",
       "  <thead>\n",
       "    <tr style=\"text-align: right;\">\n",
       "      <th></th>\n",
       "      <th>vendor_id</th>\n",
       "      <th>passenger_count</th>\n",
       "      <th>pickup_longitude</th>\n",
       "      <th>pickup_latitude</th>\n",
       "      <th>dropoff_longitude</th>\n",
       "      <th>dropoff_latitude</th>\n",
       "      <th>trip_duration</th>\n",
       "    </tr>\n",
       "  </thead>\n",
       "  <tbody>\n",
       "    <tr>\n",
       "      <th>count</th>\n",
       "      <td>1.458644e+06</td>\n",
       "      <td>1.458644e+06</td>\n",
       "      <td>1.458644e+06</td>\n",
       "      <td>1.458644e+06</td>\n",
       "      <td>1.458644e+06</td>\n",
       "      <td>1.458644e+06</td>\n",
       "      <td>1.458644e+06</td>\n",
       "    </tr>\n",
       "    <tr>\n",
       "      <th>mean</th>\n",
       "      <td>1.534950e+00</td>\n",
       "      <td>1.664530e+00</td>\n",
       "      <td>-7.397349e+01</td>\n",
       "      <td>4.075092e+01</td>\n",
       "      <td>-7.397342e+01</td>\n",
       "      <td>4.075180e+01</td>\n",
       "      <td>9.594923e+02</td>\n",
       "    </tr>\n",
       "    <tr>\n",
       "      <th>std</th>\n",
       "      <td>4.987772e-01</td>\n",
       "      <td>1.314242e+00</td>\n",
       "      <td>7.090186e-02</td>\n",
       "      <td>3.288119e-02</td>\n",
       "      <td>7.064327e-02</td>\n",
       "      <td>3.589056e-02</td>\n",
       "      <td>5.237432e+03</td>\n",
       "    </tr>\n",
       "    <tr>\n",
       "      <th>min</th>\n",
       "      <td>1.000000e+00</td>\n",
       "      <td>0.000000e+00</td>\n",
       "      <td>-1.219333e+02</td>\n",
       "      <td>3.435970e+01</td>\n",
       "      <td>-1.219333e+02</td>\n",
       "      <td>3.218114e+01</td>\n",
       "      <td>1.000000e+00</td>\n",
       "    </tr>\n",
       "    <tr>\n",
       "      <th>50%</th>\n",
       "      <td>2.000000e+00</td>\n",
       "      <td>1.000000e+00</td>\n",
       "      <td>-7.398174e+01</td>\n",
       "      <td>4.075410e+01</td>\n",
       "      <td>-7.397975e+01</td>\n",
       "      <td>4.075452e+01</td>\n",
       "      <td>6.620000e+02</td>\n",
       "    </tr>\n",
       "    <tr>\n",
       "      <th>max</th>\n",
       "      <td>2.000000e+00</td>\n",
       "      <td>9.000000e+00</td>\n",
       "      <td>-6.133553e+01</td>\n",
       "      <td>5.188108e+01</td>\n",
       "      <td>-6.133553e+01</td>\n",
       "      <td>4.392103e+01</td>\n",
       "      <td>3.526282e+06</td>\n",
       "    </tr>\n",
       "  </tbody>\n",
       "</table>\n",
       "</div>"
      ],
      "text/plain": [
       "          vendor_id  passenger_count  pickup_longitude  pickup_latitude  \\\n",
       "count  1.458644e+06     1.458644e+06      1.458644e+06     1.458644e+06   \n",
       "mean   1.534950e+00     1.664530e+00     -7.397349e+01     4.075092e+01   \n",
       "std    4.987772e-01     1.314242e+00      7.090186e-02     3.288119e-02   \n",
       "min    1.000000e+00     0.000000e+00     -1.219333e+02     3.435970e+01   \n",
       "50%    2.000000e+00     1.000000e+00     -7.398174e+01     4.075410e+01   \n",
       "max    2.000000e+00     9.000000e+00     -6.133553e+01     5.188108e+01   \n",
       "\n",
       "       dropoff_longitude  dropoff_latitude  trip_duration  \n",
       "count       1.458644e+06      1.458644e+06   1.458644e+06  \n",
       "mean       -7.397342e+01      4.075180e+01   9.594923e+02  \n",
       "std         7.064327e-02      3.589056e-02   5.237432e+03  \n",
       "min        -1.219333e+02      3.218114e+01   1.000000e+00  \n",
       "50%        -7.397975e+01      4.075452e+01   6.620000e+02  \n",
       "max        -6.133553e+01      4.392103e+01   3.526282e+06  "
      ]
     },
     "execution_count": 14,
     "metadata": {},
     "output_type": "execute_result"
    }
   ],
   "source": [
    "# descriptive statistics (measures of central tendency and spread)\n",
    "df_train.describe(percentiles=[])"
   ]
  },
  {
   "cell_type": "markdown",
   "metadata": {},
   "source": [
    "### Task 2\n",
    "\n",
    "Compute mean, median, and mode of the column trip_duration.\n",
    "\n",
    "mean :: the average value\n",
    "median :: the value in the middle\n",
    "mode :: the most frequent value"
   ]
  },
  {
   "cell_type": "code",
   "execution_count": 15,
   "metadata": {},
   "outputs": [],
   "source": []
  },
  {
   "cell_type": "code",
   "execution_count": 16,
   "metadata": {
    "_cell_guid": "5768469a-e33a-46bb-87a8-0b135a7dace5",
    "_execution_state": "idle",
    "_uuid": "52b5f2edfef807229406ca55fd3fb01e78a7426b"
   },
   "outputs": [
    {
     "name": "stdout",
     "output_type": "stream",
     "text": [
      "<class 'pandas.core.frame.DataFrame'>\n",
      "RangeIndex: 1458644 entries, 0 to 1458643\n",
      "Data columns (total 11 columns):\n",
      "id                    1458644 non-null object\n",
      "vendor_id             1458644 non-null int64\n",
      "pickup_datetime       1458644 non-null object\n",
      "dropoff_datetime      1458644 non-null object\n",
      "passenger_count       1458644 non-null int64\n",
      "pickup_longitude      1458644 non-null float64\n",
      "pickup_latitude       1458644 non-null float64\n",
      "dropoff_longitude     1458644 non-null float64\n",
      "dropoff_latitude      1458644 non-null float64\n",
      "store_and_fwd_flag    1458644 non-null object\n",
      "trip_duration         1458644 non-null int64\n",
      "dtypes: float64(4), int64(3), object(4)\n",
      "memory usage: 122.4+ MB\n"
     ]
    }
   ],
   "source": [
    "df_train.info()"
   ]
  },
  {
   "cell_type": "markdown",
   "metadata": {
    "_cell_guid": "a9fd26bd-1f85-4d33-a75e-241f3119b2de",
    "_uuid": "00891e8cb9d58bc2460c4b6c7f52fac0ad3d816d"
   },
   "source": [
    "#### Test set"
   ]
  },
  {
   "cell_type": "code",
   "execution_count": 17,
   "metadata": {
    "_cell_guid": "ff01bed1-7af9-4890-8b84-53b7ec720469",
    "_execution_state": "idle",
    "_uuid": "a060782713dd18c7e9f081cbf0ecb9c082af0091"
   },
   "outputs": [
    {
     "name": "stdout",
     "output_type": "stream",
     "text": [
      "Total number of samples in test dataset:  625134\n",
      "Number of columns in test dataset:  9\n"
     ]
    }
   ],
   "source": [
    "print(\"Total number of samples in test dataset: \", df_test.shape[0])\n",
    "print(\"Number of columns in test dataset: \", df_test.shape[1])"
   ]
  },
  {
   "cell_type": "code",
   "execution_count": 18,
   "metadata": {
    "_cell_guid": "e6ed4059-ce7a-49d7-b6cb-933c01b15a5b",
    "_execution_state": "idle",
    "_uuid": "bbaaedf3952087d8e144ff45f103496dcbc02503"
   },
   "outputs": [
    {
     "data": {
      "text/html": [
       "<div>\n",
       "<style scoped>\n",
       "    .dataframe tbody tr th:only-of-type {\n",
       "        vertical-align: middle;\n",
       "    }\n",
       "\n",
       "    .dataframe tbody tr th {\n",
       "        vertical-align: top;\n",
       "    }\n",
       "\n",
       "    .dataframe thead th {\n",
       "        text-align: right;\n",
       "    }\n",
       "</style>\n",
       "<table border=\"1\" class=\"dataframe\">\n",
       "  <thead>\n",
       "    <tr style=\"text-align: right;\">\n",
       "      <th></th>\n",
       "      <th>id</th>\n",
       "      <th>vendor_id</th>\n",
       "      <th>pickup_datetime</th>\n",
       "      <th>passenger_count</th>\n",
       "      <th>pickup_longitude</th>\n",
       "      <th>pickup_latitude</th>\n",
       "      <th>dropoff_longitude</th>\n",
       "      <th>dropoff_latitude</th>\n",
       "      <th>store_and_fwd_flag</th>\n",
       "    </tr>\n",
       "  </thead>\n",
       "  <tbody>\n",
       "    <tr>\n",
       "      <th>0</th>\n",
       "      <td>id3004672</td>\n",
       "      <td>1</td>\n",
       "      <td>2016-06-30 23:59:58</td>\n",
       "      <td>1</td>\n",
       "      <td>-73.988129</td>\n",
       "      <td>40.732029</td>\n",
       "      <td>-73.990173</td>\n",
       "      <td>40.756680</td>\n",
       "      <td>N</td>\n",
       "    </tr>\n",
       "    <tr>\n",
       "      <th>1</th>\n",
       "      <td>id3505355</td>\n",
       "      <td>1</td>\n",
       "      <td>2016-06-30 23:59:53</td>\n",
       "      <td>1</td>\n",
       "      <td>-73.964203</td>\n",
       "      <td>40.679993</td>\n",
       "      <td>-73.959808</td>\n",
       "      <td>40.655403</td>\n",
       "      <td>N</td>\n",
       "    </tr>\n",
       "    <tr>\n",
       "      <th>2</th>\n",
       "      <td>id1217141</td>\n",
       "      <td>1</td>\n",
       "      <td>2016-06-30 23:59:47</td>\n",
       "      <td>1</td>\n",
       "      <td>-73.997437</td>\n",
       "      <td>40.737583</td>\n",
       "      <td>-73.986160</td>\n",
       "      <td>40.729523</td>\n",
       "      <td>N</td>\n",
       "    </tr>\n",
       "    <tr>\n",
       "      <th>3</th>\n",
       "      <td>id2150126</td>\n",
       "      <td>2</td>\n",
       "      <td>2016-06-30 23:59:41</td>\n",
       "      <td>1</td>\n",
       "      <td>-73.956070</td>\n",
       "      <td>40.771900</td>\n",
       "      <td>-73.986427</td>\n",
       "      <td>40.730469</td>\n",
       "      <td>N</td>\n",
       "    </tr>\n",
       "    <tr>\n",
       "      <th>4</th>\n",
       "      <td>id1598245</td>\n",
       "      <td>1</td>\n",
       "      <td>2016-06-30 23:59:33</td>\n",
       "      <td>1</td>\n",
       "      <td>-73.970215</td>\n",
       "      <td>40.761475</td>\n",
       "      <td>-73.961510</td>\n",
       "      <td>40.755890</td>\n",
       "      <td>N</td>\n",
       "    </tr>\n",
       "  </tbody>\n",
       "</table>\n",
       "</div>"
      ],
      "text/plain": [
       "          id  vendor_id      pickup_datetime  passenger_count  \\\n",
       "0  id3004672          1  2016-06-30 23:59:58                1   \n",
       "1  id3505355          1  2016-06-30 23:59:53                1   \n",
       "2  id1217141          1  2016-06-30 23:59:47                1   \n",
       "3  id2150126          2  2016-06-30 23:59:41                1   \n",
       "4  id1598245          1  2016-06-30 23:59:33                1   \n",
       "\n",
       "   pickup_longitude  pickup_latitude  dropoff_longitude  dropoff_latitude  \\\n",
       "0        -73.988129        40.732029         -73.990173         40.756680   \n",
       "1        -73.964203        40.679993         -73.959808         40.655403   \n",
       "2        -73.997437        40.737583         -73.986160         40.729523   \n",
       "3        -73.956070        40.771900         -73.986427         40.730469   \n",
       "4        -73.970215        40.761475         -73.961510         40.755890   \n",
       "\n",
       "  store_and_fwd_flag  \n",
       "0                  N  \n",
       "1                  N  \n",
       "2                  N  \n",
       "3                  N  \n",
       "4                  N  "
      ]
     },
     "execution_count": 18,
     "metadata": {},
     "output_type": "execute_result"
    }
   ],
   "source": [
    "df_test.head()"
   ]
  },
  {
   "cell_type": "markdown",
   "metadata": {
    "_cell_guid": "d484f5e4-188c-4f2d-87dc-2c83ff967554",
    "_uuid": "c3ece303ee5068c65403aece3daf2ba062635a8d"
   },
   "source": [
    "# 2. Missing Values\n",
    "\n",
    "Are there any missing values in the data set?"
   ]
  },
  {
   "cell_type": "code",
   "execution_count": 19,
   "metadata": {
    "_cell_guid": "de4b6f9f-c032-4de2-ba40-c23f69e19f87",
    "_execution_state": "idle",
    "_uuid": "37e87c49fb2d39ad5ae07e217e6108b0eaf0c341"
   },
   "outputs": [
    {
     "data": {
      "text/plain": [
       "id                    0\n",
       "vendor_id             0\n",
       "pickup_datetime       0\n",
       "dropoff_datetime      0\n",
       "passenger_count       0\n",
       "pickup_longitude      0\n",
       "pickup_latitude       0\n",
       "dropoff_longitude     0\n",
       "dropoff_latitude      0\n",
       "store_and_fwd_flag    0\n",
       "trip_duration         0\n",
       "dtype: int64"
      ]
     },
     "execution_count": 19,
     "metadata": {},
     "output_type": "execute_result"
    }
   ],
   "source": [
    "df_train.isnull().sum()  # isna()"
   ]
  },
  {
   "cell_type": "code",
   "execution_count": 20,
   "metadata": {
    "_cell_guid": "0185b9f8-7f86-4e92-b8a2-16ad593d14ed",
    "_execution_state": "idle",
    "_uuid": "55347142bf615b8ee652db0876b55cc18f3ced9f"
   },
   "outputs": [
    {
     "data": {
      "text/plain": [
       "id                    0\n",
       "vendor_id             0\n",
       "pickup_datetime       0\n",
       "passenger_count       0\n",
       "pickup_longitude      0\n",
       "pickup_latitude       0\n",
       "dropoff_longitude     0\n",
       "dropoff_latitude      0\n",
       "store_and_fwd_flag    0\n",
       "dtype: int64"
      ]
     },
     "execution_count": 20,
     "metadata": {},
     "output_type": "execute_result"
    }
   ],
   "source": [
    "df_test.isna().sum()"
   ]
  },
  {
   "cell_type": "markdown",
   "metadata": {
    "_cell_guid": "166dc596-eea4-4b20-9f7a-93f0f7b4c0ee",
    "_uuid": "10af5dd39aec2e675d34d7be2289bbc703513582"
   },
   "source": [
    "# 3. Data Exploration"
   ]
  },
  {
   "cell_type": "markdown",
   "metadata": {
    "_cell_guid": "ff26611b-14d9-4499-b33d-ea0fb708152f",
    "_uuid": "e6184fff7a33cba5a8186068597c55aef8803848"
   },
   "source": [
    "### 3.1 Are the IDs in train and test sets unique? Is there overlap?"
   ]
  },
  {
   "cell_type": "code",
   "execution_count": 21,
   "metadata": {
    "_cell_guid": "c7b7032e-2c21-4ac4-a5db-184893d1de97",
    "_execution_state": "idle",
    "_uuid": "93e7b568479d8799f073f4653ccdedd1e2218618"
   },
   "outputs": [
    {
     "name": "stdout",
     "output_type": "stream",
     "text": [
      "Number of ids in the training set:  1458644\n",
      "Number of unique ids in the training set:  1458644 \n",
      "\n",
      "Number of ids in the test set:  625134\n",
      "Number of unique ids in the test set:  625134 \n",
      "\n",
      "Number of common ids (if any) between the train and test sets:  0\n"
     ]
    }
   ],
   "source": [
    "print(\"Number of ids in the training set: \", len(df_train[\"id\"]))\n",
    "print(\"Number of unique ids in the training set: \", len(pd.unique(df_train[\"id\"])), \"\\n\")\n",
    "\n",
    "print(\"Number of ids in the test set: \", len(df_test[\"id\"]))\n",
    "print(\"Number of unique ids in the test set: \", len(pd.unique(df_test[\"id\"])), \"\\n\")\n",
    "\n",
    "print(\"Number of common ids (if any) between the train and test sets: \", \\\n",
    "len(set(df_train[\"id\"].values).intersection(set(df_test[\"id\"].values))))"
   ]
  },
  {
   "cell_type": "markdown",
   "metadata": {
    "_cell_guid": "820a5e05-50af-4540-aaad-f21a17f9aa8c",
    "_uuid": "34a607eed2cb9bbf9a885806563a2ba8d608da8c"
   },
   "source": [
    "### 3.2 Are vendor_ids unique in train and test sets? \n",
    "\n",
    "* vendor_id takes on only two values in both the train and test datasets, i.e. 1 and 2  \n",
    "Hypothesis - This could represent data from two different taxi companies\n",
    "\n",
    "#### This leads to a set of follow-up questions:\n",
    "\n",
    "* If the hypothesis is right and the values in the vendor_id column actually represent the data from two different taxi companies; are the number of observations in the dataset from each of the companies comparable or is there any imbalance? (Both in the train and test datasets)\n",
    "\n",
    "* Among the vendor_ids (1 and 2) - what is the distribution in the number of passengers (passenger_count) across the train and test datasets?"
   ]
  },
  {
   "cell_type": "code",
   "execution_count": 22,
   "metadata": {
    "_cell_guid": "8e35912f-646a-4dc1-9bbe-40715691cbc2",
    "_execution_state": "idle",
    "_uuid": "e7a315c5d35516ca2a0d8500393d2233870f0112"
   },
   "outputs": [
    {
     "name": "stdout",
     "output_type": "stream",
     "text": [
      "Number of vendor_ids in the train dataset:  1458644\n",
      "Number of unique vendor_ids in the train dataset:  2 \n",
      "\n",
      "Number of vendor_ids in the test dataset:  625134\n",
      "Number of unique vendor_ids in the test dataset:  2 \n",
      "\n"
     ]
    }
   ],
   "source": [
    "print(\"Number of vendor_ids in the train dataset: \", len(df_train[\"vendor_id\"]))\n",
    "print(\"Number of unique vendor_ids in the train dataset: \", len(pd.unique(df_train[\"vendor_id\"])), \"\\n\")\n",
    "\n",
    "print(\"Number of vendor_ids in the test dataset: \", len(df_test[\"vendor_id\"]))\n",
    "print(\"Number of unique vendor_ids in the test dataset: \", len(pd.unique(df_test[\"vendor_id\"])), \"\\n\")"
   ]
  },
  {
   "cell_type": "code",
   "execution_count": 23,
   "metadata": {
    "_cell_guid": "d38a78b1-b653-448b-a3f9-9083cbee57d7",
    "_execution_state": "idle",
    "_uuid": "4476b3a5056db833f48accd3944cadb0a9cb9260"
   },
   "outputs": [
    {
     "data": {
      "text/plain": [
       "<matplotlib.axes._subplots.AxesSubplot at 0x11e87cba8>"
      ]
     },
     "execution_count": 23,
     "metadata": {},
     "output_type": "execute_result"
    },
    {
     "data": {
      "image/png": "[encoded data removed]",
      "text/plain": [
       "<matplotlib.figure.Figure at 0x107f36e48>"
      ]
     },
     "metadata": {},
     "output_type": "display_data"
    }
   ],
   "source": [
    "# The number of observations of each of the two companies seem comparable\n",
    "sns.countplot(x=\"vendor_id\", data=df_train)"
   ]
  },
  {
   "cell_type": "code",
   "execution_count": 24,
   "metadata": {
    "_cell_guid": "ac3eeb5f-868c-4b92-b479-e4a01c99da85",
    "_execution_state": "idle",
    "_uuid": "9b0f35b3b90d52d5ecce6dba7a6166f14fb09988"
   },
   "outputs": [
    {
     "data": {
      "text/plain": [
       "<matplotlib.axes._subplots.AxesSubplot at 0x10bd342b0>"
      ]
     },
     "execution_count": 24,
     "metadata": {},
     "output_type": "execute_result"
    },
    {
     "data": {
      "image/png": "[encoded data removed]",
      "text/plain": [
       "<matplotlib.figure.Figure at 0x11e0d75f8>"
      ]
     },
     "metadata": {},
     "output_type": "display_data"
    }
   ],
   "source": [
    "sns.countplot(x=\"vendor_id\", data=df_test)"
   ]
  },
  {
   "cell_type": "markdown",
   "metadata": {
    "_cell_guid": "74f50e0e-80e6-400f-bed1-fc2dde03748d",
    "_uuid": "b583ddb17586f8b46983827739e71cfc4d2ec8f8"
   },
   "source": [
    "### 3.3 What's the distribution of the number of passengers across vendor_id variables"
   ]
  },
  {
   "cell_type": "code",
   "execution_count": 25,
   "metadata": {
    "_cell_guid": "7d54ea7c-d6bd-4740-8580-2895d12063d3",
    "_execution_state": "idle",
    "_uuid": "6e3d7aee5bf5220d5538bdf6bc5b3fb531838085"
   },
   "outputs": [
    {
     "data": {
      "text/plain": [
       "<matplotlib.axes._subplots.AxesSubplot at 0x1013a2940>"
      ]
     },
     "execution_count": 25,
     "metadata": {},
     "output_type": "execute_result"
    },
    {
     "data": {
      "image/png": "[encoded data removed]",
      "text/plain": [
       "<matplotlib.figure.Figure at 0x1013a8828>"
      ]
     },
     "metadata": {},
     "output_type": "display_data"
    }
   ],
   "source": [
    "sns.countplot(x=\"passenger_count\", data=df_train[df_train[\"vendor_id\"] == 1])"
   ]
  },
  {
   "cell_type": "code",
   "execution_count": 26,
   "metadata": {
    "_cell_guid": "d57b48b6-55b4-4f23-8602-29b7f2fc7536",
    "_execution_state": "idle",
    "_uuid": "829a262562fb3c40c88daf2c72d8209b39a2092e"
   },
   "outputs": [
    {
     "data": {
      "text/plain": [
       "<matplotlib.axes._subplots.AxesSubplot at 0x107f36160>"
      ]
     },
     "execution_count": 26,
     "metadata": {},
     "output_type": "execute_result"
    },
    {
     "data": {
      "image/png": "[encoded data removed]",
      "text/plain": [
       "<matplotlib.figure.Figure at 0x107d03c50>"
      ]
     },
     "metadata": {},
     "output_type": "display_data"
    }
   ],
   "source": [
    "sns.countplot(x=\"passenger_count\", data=df_train[df_train[\"vendor_id\"] == 2])"
   ]
  },
  {
   "cell_type": "code",
   "execution_count": null,
   "metadata": {
    "_cell_guid": "fb8913c5-2c74-4430-8d45-1400c70c353c",
    "_execution_state": "idle",
    "_uuid": "7abaa6555ee9fee446057cea0e4fa2f1d29ffe40"
   },
   "outputs": [],
   "source": [
    "sns.countplot(x=\"passenger_count\", data=df_test[df_test[\"vendor_id\"] == 1])"
   ]
  },
  {
   "cell_type": "code",
   "execution_count": null,
   "metadata": {
    "_cell_guid": "b2d5d225-d7ca-420f-b67f-b3b86601a814",
    "_execution_state": "idle",
    "_uuid": "910b841fc8b7de43f9c7df625d2e60158013c3ac"
   },
   "outputs": [],
   "source": [
    "sns.countplot(x=\"passenger_count\", data=df_test[df_test[\"vendor_id\"] == 2])"
   ]
  },
  {
   "cell_type": "markdown",
   "metadata": {
    "_cell_guid": "d7b7f9fb-01b1-468d-89ef-97f552b39896",
    "_uuid": "e6c492057ee8dbf3b08c16d2ee9d144243b854f0"
   },
   "source": [
    "### 3.4 What's the distribution of trip_duration across the training set"
   ]
  },
  {
   "cell_type": "code",
   "execution_count": 29,
   "metadata": {
    "_cell_guid": "e98f9cc3-3750-47fc-8ee5-2672dfeb6d12",
    "_execution_state": "idle",
    "_uuid": "e5f05e0fd851fff7dfd65bdeebb841a1db03e9e1"
   },
   "outputs": [],
   "source": [
    "df_train[\"pickup_datetime\"] = pd.to_datetime(df_train[\"pickup_datetime\"])\n",
    "df_train[\"dropoff_datetime\"] = pd.to_datetime(df_train[\"dropoff_datetime\"])\n",
    "\n",
    "df_test[\"pickup_datetime\"] = pd.to_datetime(df_test[\"pickup_datetime\"])"
   ]
  },
  {
   "cell_type": "code",
   "execution_count": 32,
   "metadata": {
    "_cell_guid": "dc8629e4-3feb-4e2c-b119-f21de8e7b018",
    "_execution_state": "idle",
    "_uuid": "faf2ee648db2fa2f53e2bda62f5f9f906cad95f3"
   },
   "outputs": [
    {
     "data": {
      "text/plain": [
       "count    1.458644e+06\n",
       "mean     9.594923e+02\n",
       "std      5.237432e+03\n",
       "min      1.000000e+00\n",
       "50%      6.620000e+02\n",
       "max      3.526282e+06\n",
       "Name: trip_duration, dtype: float64"
      ]
     },
     "execution_count": 32,
     "metadata": {},
     "output_type": "execute_result"
    }
   ],
   "source": [
    "# trip_duration represents the difference between dropoff_datetime and pickup_datetime\n",
    "df_train[\"trip_duration\"].describe(percentiles=[])"
   ]
  },
  {
   "cell_type": "code",
   "execution_count": 33,
   "metadata": {
    "_cell_guid": "cf5f1336-71c3-42e4-a399-c9beaefc489a",
    "_execution_state": "idle",
    "_uuid": "96a7fad6cc2ef7dfe70611715e9428e46f459912"
   },
   "outputs": [
    {
     "data": {
      "text/plain": [
       "count                   1458644\n",
       "mean     0 days 00:15:59.492272\n",
       "std      0 days 01:27:17.431724\n",
       "min             0 days 00:00:01\n",
       "50%             0 days 00:11:02\n",
       "max            40 days 19:31:22\n",
       "dtype: object"
      ]
     },
     "execution_count": 33,
     "metadata": {},
     "output_type": "execute_result"
    }
   ],
   "source": [
    "# trip duration in datetime representation\n",
    "(df_train[\"dropoff_datetime\"] - df_train[\"pickup_datetime\"]).describe(percentiles=[])"
   ]
  },
  {
   "cell_type": "markdown",
   "metadata": {
    "_cell_guid": "1d653fc5-8140-49d8-a908-0c6486635c45",
    "_uuid": "2f587d815036a9e33232de94a01a229fcd69c98e"
   },
   "source": [
    "_It is interesting to see that there happens to be a trip that lasted for over 40 days. Let us plot the trip duration in seconds to view any other possbile outliers._"
   ]
  },
  {
   "cell_type": "code",
   "execution_count": 34,
   "metadata": {
    "_cell_guid": "5cfd175c-3ee6-4fe7-8c99-15a356006576",
    "_execution_state": "idle",
    "_uuid": "5a15ef493801a3440dbd01e82fcef52cd8e0c184"
   },
   "outputs": [
    {
     "data": {
      "image/png": "[encoded data removed]",
      "text/plain": [
       "<matplotlib.figure.Figure at 0x108042f60>"
      ]
     },
     "metadata": {},
     "output_type": "display_data"
    }
   ],
   "source": [
    "plt.figure(figsize=(10,10))\n",
    "plt.scatter(range(len(df_train[\"trip_duration\"])), np.sort(df_train[\"trip_duration\"]))\n",
    "plt.xlabel('index')\n",
    "plt.ylabel('trip_duration in seconds')\n",
    "plt.show()"
   ]
  },
  {
   "cell_type": "markdown",
   "metadata": {
    "_cell_guid": "b65a0858-196d-4774-8216-a98aafa8b616",
    "_uuid": "2056667f533bf8a16ce57bfbf447f53d8cce3000"
   },
   "source": [
    "_We see that there are four outliers with trip durations of 20 days or more_"
   ]
  },
  {
   "cell_type": "code",
   "execution_count": 35,
   "metadata": {
    "_cell_guid": "7b115f22-b26f-4bf4-9ddf-335fe6315d21",
    "_execution_state": "idle",
    "_uuid": "4cd9f69f2b72a791d760f9253df80356c9363e98"
   },
   "outputs": [],
   "source": [
    "# Let's remove outliers\n",
    "df_train = df_train[df_train[\"trip_duration\"] < 500000]"
   ]
  },
  {
   "cell_type": "code",
   "execution_count": 36,
   "metadata": {
    "_cell_guid": "23f548ac-0509-470c-b5eb-eddf5ab47e87",
    "_execution_state": "idle",
    "_uuid": "8ba4be43159652a86a0ade53b122d35eebff8fc2"
   },
   "outputs": [
    {
     "data": {
      "text/plain": [
       "count                   1458640\n",
       "mean     0 days 00:15:52.815251\n",
       "std      0 days 00:52:51.322283\n",
       "min             0 days 00:00:01\n",
       "25%             0 days 00:06:37\n",
       "50%             0 days 00:11:02\n",
       "75%             0 days 00:17:55\n",
       "max             0 days 23:59:52\n",
       "dtype: object"
      ]
     },
     "execution_count": 36,
     "metadata": {},
     "output_type": "execute_result"
    }
   ],
   "source": [
    "(df_train[\"dropoff_datetime\"] - df_train[\"pickup_datetime\"]).describe()"
   ]
  },
  {
   "cell_type": "code",
   "execution_count": 37,
   "metadata": {
    "_cell_guid": "11bc5025-7c84-4d5b-9def-31569059c59a",
    "_execution_state": "idle",
    "_uuid": "721cae18b50d08b15eb89e15919a0d9c8709fc06"
   },
   "outputs": [
    {
     "data": {
      "image/png": "[encoded data removed]",
      "text/plain": [
       "<matplotlib.figure.Figure at 0x1080646d8>"
      ]
     },
     "metadata": {},
     "output_type": "display_data"
    }
   ],
   "source": [
    "plt.figure(figsize=(10,10))\n",
    "plt.scatter(range(len(df_train[\"trip_duration\"])), np.sort(df_train[\"trip_duration\"]))\n",
    "plt.xlabel('index')\n",
    "plt.ylabel('trip_duration in seconds')\n",
    "plt.show()"
   ]
  },
  {
   "cell_type": "markdown",
   "metadata": {
    "_cell_guid": "efd7e17b-99a9-43f1-8f67-515b89f7c19e",
    "_uuid": "3fe4e77e313c9870e89dabd558632c293d3ea8e9"
   },
   "source": [
    "_It is interesting to see that a lot of trips, have a trip duration nearing 23 hours_"
   ]
  },
  {
   "cell_type": "code",
   "execution_count": null,
   "metadata": {
    "_cell_guid": "bb8db2df-b262-4d3d-948c-59ee3966b400",
    "_execution_state": "idle",
    "_uuid": "64923003d6ae6761629adf57ffedec38bc7169d1"
   },
   "outputs": [],
   "source": []
  },
  {
   "cell_type": "markdown",
   "metadata": {
    "_cell_guid": "915f8e5d-61fa-4dc4-a167-15ffa022bcc8",
    "_uuid": "4de82d0441ff78e62c65299110ba8da777c757b6"
   },
   "source": [
    "### 3.5 Distribution of the store_and_fwd_flag across the train dataset"
   ]
  },
  {
   "cell_type": "code",
   "execution_count": null,
   "metadata": {
    "_cell_guid": "572992d5-43d0-4b85-b601-c889f9e3dc57",
    "_execution_state": "idle",
    "_uuid": "221aabc35f5efebdbb36b5cfce1030a47b6d41f2"
   },
   "outputs": [],
   "source": [
    "sns.countplot(x=\"store_and_fwd_flag\", data=df_train)"
   ]
  },
  {
   "cell_type": "markdown",
   "metadata": {
    "_cell_guid": "acd13284-9f6b-48c9-b067-4f36751ac2aa",
    "_uuid": "70291d33104f291725f0798dbfe0054f47928f60"
   },
   "source": [
    "_According to the Data Dictionary the store and fwd flag indicates whether the trip record was held in vehicle memory before sending to the vendor because the vehicle did not have a connection to the server - Y=store and forward; N=not a store and forward trip. This must therefore indicate that most of the trips(99.448% to be precise) were not stored in the vehicle memory before forwarding._\n",
    "\n",
    "_**Hypothesis** - In 99.448% of the trips, the vehicles might have been in an area of NYC, where the celluar reception was good; thereby having a connection to the server. In 0.551% of the trips, the celluar reception might have been poor; thereby having to store the trip record in the vehicle memory prior to sending it to the server. Could this affect the dropoff longitude and latitude? Would the dropoff coordinates not have been recorded until celluar reception was availbale again? If so, must we ignore such records while building the model?_"
   ]
  },
  {
   "cell_type": "code",
   "execution_count": null,
   "metadata": {
    "_cell_guid": "e29cf491-2c71-48e6-872d-5bf8d214f3ae",
    "_execution_state": "idle",
    "_uuid": "88cd600fe5a4a495af48c010cfe3044bcb5213c9"
   },
   "outputs": [],
   "source": [
    "len(df_train[df_train[\"store_and_fwd_flag\"] == \"N\"])*100.0/(df_train.count()[0])"
   ]
  },
  {
   "cell_type": "markdown",
   "metadata": {
    "_cell_guid": "8c6107b0-7721-4bc7-8f4c-38f759abc221",
    "_uuid": "8dae0aabf974da81954989dab109de8c731a825c"
   },
   "source": [
    "_Among the 0.551% of the trips in the train dataset, where the trip record was stored in the vehicle memory; we observe that all the 0.551% of the cases were only for vendor id = 1._"
   ]
  },
  {
   "cell_type": "code",
   "execution_count": null,
   "metadata": {
    "_cell_guid": "5b7e6d2d-6455-49e2-b822-773e959e47ed",
    "_execution_state": "idle",
    "_uuid": "6d28585bceb91cec8fa784256ba956aee08000cf"
   },
   "outputs": [],
   "source": [
    "set(df_train[df_train[\"store_and_fwd_flag\"] == \"Y\"][\"vendor_id\"])"
   ]
  },
  {
   "cell_type": "code",
   "execution_count": null,
   "metadata": {
    "_cell_guid": "c2b3c113-058d-4a07-a756-b047ae5cd04a",
    "_execution_state": "idle",
    "_uuid": "49aa674a748e21493129855eaabf97009351a6d9"
   },
   "outputs": [],
   "source": []
  },
  {
   "cell_type": "markdown",
   "metadata": {
    "_cell_guid": "3352ef9e-adbe-48b7-bd3f-db6f39e6648e",
    "_uuid": "5a1383c03b3f0185b8f3882a6be704ab7732b79e"
   },
   "source": [
    "### 3.6 Exploring the distances between the pickup and dropoff lat/log coordinates"
   ]
  },
  {
   "cell_type": "code",
   "execution_count": null,
   "metadata": {
    "_cell_guid": "6e0b6826-3e72-4b8d-a0f0-029939c28a39",
    "_execution_state": "idle",
    "_uuid": "57a5ed037f117a1847d3d1a6632b71bf1fd25ef6"
   },
   "outputs": [],
   "source": [
    "from haversine import haversine"
   ]
  },
  {
   "cell_type": "code",
   "execution_count": null,
   "metadata": {
    "_cell_guid": "252ed8d7-aaf9-48e8-8073-ca33c16a968f",
    "_execution_state": "idle",
    "_uuid": "46e5d0262e965a913d943ccd3f7412d09d9abe29"
   },
   "outputs": [],
   "source": [
    "def calculate_haversine_distance(var_row):\n",
    "    return haversine((var_row[\"pickup_latitude\"], var_row[\"pickup_longitude\"]), \n",
    "                     (var_row[\"dropoff_latitude\"], var_row[\"dropoff_longitude\"]), miles = True)"
   ]
  },
  {
   "cell_type": "code",
   "execution_count": null,
   "metadata": {
    "_cell_guid": "93633783-489b-4e64-8946-ae3efc1557bf",
    "_execution_state": "idle",
    "_uuid": "c3199c5f06a24cd067bfb60300d590a736057dd0"
   },
   "outputs": [],
   "source": [
    "# #Calculating the Haversine Distance\n",
    "# #The haversine formula determines the great-circle distance between two points on a sphere \n",
    "# #given their longitudes and latitudes.\n",
    "df_train[\"haversine_distance\"] = df_train.apply(lambda row: calculate_haversine_distance(row), axis=1)"
   ]
  },
  {
   "cell_type": "code",
   "execution_count": null,
   "metadata": {
    "_cell_guid": "de33ad4c-1070-4f1a-b5f1-cc050304a2e2",
    "_execution_state": "idle",
    "_uuid": "0e1940224aedccfd85b87aacb37ded7e455b9078"
   },
   "outputs": [],
   "source": [
    "df_train.head()"
   ]
  },
  {
   "cell_type": "code",
   "execution_count": null,
   "metadata": {
    "_cell_guid": "60a0e8a4-a032-453f-b5eb-318e309c5e22",
    "_execution_state": "idle",
    "_uuid": "b3c01afa7e1cf54dd6a49a0f34841b768162763f"
   },
   "outputs": [],
   "source": [
    "df_train[\"haversine_distance\"].describe()"
   ]
  },
  {
   "cell_type": "code",
   "execution_count": null,
   "metadata": {
    "_cell_guid": "5d09934e-732d-4926-9f52-26f4ddebe85e",
    "_execution_state": "idle",
    "_uuid": "8424cffb4ea926cee840c0be798c10100edee3e3"
   },
   "outputs": [],
   "source": []
  },
  {
   "cell_type": "markdown",
   "metadata": {
    "_cell_guid": "8a1d7392-d83d-415c-bc88-3d3bce8a3d86",
    "_uuid": "81baf0d8e4808a6b45b84a56b923369ef22b4a6b"
   },
   "source": [
    "_Plot of the haversine distance vs. the trip duration._"
   ]
  },
  {
   "cell_type": "code",
   "execution_count": null,
   "metadata": {
    "_cell_guid": "81ea7668-579e-488a-b7ff-06753a882a81",
    "_execution_state": "idle",
    "_uuid": "8fb8a6a0d50264fd5bb3ca8e4096e8a21d4ed41e"
   },
   "outputs": [],
   "source": [
    "#plt.figure(figsize=(10,10))\n",
    "#sns.regplot(x=\"haversine_distance\", y=\"trip_duration\", data=df_train)"
   ]
  },
  {
   "cell_type": "markdown",
   "metadata": {
    "_execution_state": "idle",
    "_uuid": "6c6660b700e35fbfdaa1893b8b1ded4079aaaeeb"
   },
   "source": [
    "![](http://kartikkannapur.github.io//images/haversine_distance_1.png)"
   ]
  },
  {
   "cell_type": "markdown",
   "metadata": {
    "_cell_guid": "6cc99581-e89d-41e6-a4c5-1eed4e3a7956",
    "_uuid": "850972a5053efe630ccb6bb71f9e39710495078a"
   },
   "source": [
    "_The presence of outliers in the train dataset(long tail in the haversine distance) might have caused the deviation in the regression line. It would be interesting to explore different methods for outlier detection._"
   ]
  },
  {
   "cell_type": "code",
   "execution_count": null,
   "metadata": {
    "_cell_guid": "f54192eb-dbb7-4201-81dc-8938185dbcfa",
    "_execution_state": "idle",
    "_uuid": "606aa222cd2ecacffc7a824c87a6e154599510ab",
    "scrolled": true
   },
   "outputs": [],
   "source": [
    "df_train[df_train[\"haversine_distance\"] > 100]"
   ]
  },
  {
   "cell_type": "code",
   "execution_count": null,
   "metadata": {
    "_cell_guid": "7eed25c4-b75d-472d-9be4-32a6ce3d36b1",
    "_execution_state": "idle",
    "_uuid": "e386d1d1d75352b71f32ea10a08e1acff27e7aab"
   },
   "outputs": [],
   "source": [
    "#plt.figure(figsize=(10,10))\n",
    "#sns.regplot(x=\"haversine_distance\", y=\"trip_duration\", data=df_train[df_train[\"haversine_distance\"] < 100])"
   ]
  },
  {
   "cell_type": "markdown",
   "metadata": {
    "_cell_guid": "c3c4b8f3-b423-4f55-920c-4fe4953a0796",
    "_execution_state": "idle",
    "_uuid": "8d689b2a8e90592cab5a8686700bee07d7a1ea63",
    "collapsed": true
   },
   "source": [
    "![](http://kartikkannapur.github.io//images/haversine_distance_2.png)"
   ]
  },
  {
   "cell_type": "code",
   "execution_count": null,
   "metadata": {
    "_execution_state": "idle",
    "_uuid": "d021dda4c8f5e0c96a4c39161574bb22bf14e830"
   },
   "outputs": [],
   "source": []
  },
  {
   "cell_type": "markdown",
   "metadata": {
    "_cell_guid": "22314f39-54ba-4de9-9e2a-7a7aee29bfb5",
    "_uuid": "0b3a8199b00ebad6fb1b5915e0f08533ecc3a2bc"
   },
   "source": [
    "### 3.7 Exploring the number of trips at each timestamp feature in the train dataset"
   ]
  },
  {
   "cell_type": "markdown",
   "metadata": {
    "_cell_guid": "c5076b86-a9ba-4a75-bd0d-63f7ee9af322",
    "_uuid": "0778db79482f6dffad642f4c9f8b49ee39c3657f"
   },
   "source": [
    "_Once the train dataset has been cleaned, based on the outliers in column - trip duration(that consisted of a few trips lasting for 20 days or more), we can now explore the timestamps on a hourly-weekly basis for further exploratory analysis._"
   ]
  },
  {
   "cell_type": "markdown",
   "metadata": {
    "_cell_guid": "7cc0e230-c313-452f-a85b-8ebc30295b62",
    "_uuid": "1b7282cc5c7dd81586f20252182119eea4197132"
   },
   "source": [
    "_The train dataset contains trips that range from 2016-01-01 to 2016-06-30, i.e. 6 months worth of data._"
   ]
  },
  {
   "cell_type": "code",
   "execution_count": null,
   "metadata": {
    "_cell_guid": "1936b322-011c-4c93-a5cb-4ece2bd25cb5",
    "_execution_state": "idle",
    "_uuid": "ba550eeeece39b6060e00c4508216285c42c8bcc",
    "scrolled": true
   },
   "outputs": [],
   "source": [
    "print(\"Train dataset start date: \", min(df_train[\"pickup_datetime\"]))\n",
    "print(\"Train dataset end date: \", max(df_train[\"pickup_datetime\"]))"
   ]
  },
  {
   "cell_type": "code",
   "execution_count": null,
   "metadata": {
    "_cell_guid": "bd57c2ec-63b6-498a-8623-8f547b7dd1e0",
    "_execution_state": "idle",
    "_uuid": "e5e65652582eb1e7b163b541831c22b02edc6936"
   },
   "outputs": [],
   "source": [
    "# #Conversion to pandas to_datetime has already been performed in section 5.5\n",
    "# #df_train[\"pickup_datetime\"] = pd.to_datetime(df_train['pickup_datetime'])\n",
    "\n",
    "\n",
    "df_train[\"pickup_dayofweek\"] = df_train.pickup_datetime.dt.dayofweek\n",
    "df_train[\"pickup_weekday_name\"] = df_train.pickup_datetime.dt.weekday_name\n",
    "df_train[\"pickup_hour\"] = df_train.pickup_datetime.dt.hour\n",
    "df_train[\"pickup_month\"] = df_train.pickup_datetime.dt.month"
   ]
  },
  {
   "cell_type": "code",
   "execution_count": null,
   "metadata": {
    "_cell_guid": "b55e4912-0069-450a-831d-b0e7e6941dde",
    "_execution_state": "idle",
    "_uuid": "eb3b870e5f3e5406da757a9062b03a3e7d3c2558"
   },
   "outputs": [],
   "source": [
    "df_train.head()"
   ]
  },
  {
   "cell_type": "code",
   "execution_count": null,
   "metadata": {
    "_cell_guid": "80511fb3-25ca-4fc3-8734-46d08e65b59a",
    "_execution_state": "idle",
    "_uuid": "8e70aba7ebe81266bcd36d946b63059d7d58b8c9"
   },
   "outputs": [],
   "source": []
  },
  {
   "cell_type": "markdown",
   "metadata": {
    "_cell_guid": "d5ca410e-11f3-4e8e-8eeb-8916f347ddce",
    "_uuid": "c2fa97835f130401245836b01e85d34c8bc249d7"
   },
   "source": [
    "_Distribution of trips across - months in the six month rage, day of the week and hour in a day._\n",
    "\n",
    "_We can observe that there are more trips on Friday's and Saturday's, than on any other weekday, and this make sense (TGIF :)); On a 24 hour clock, the number of trips is the highest between 17:00 hrs - 22:00 hrs and reduces post 01:00 hrs; On a six month time range, the number of trips are almost evenly distributed, with none of the months having a surprising spike in the dataset. _"
   ]
  },
  {
   "cell_type": "code",
   "execution_count": null,
   "metadata": {
    "_cell_guid": "cdedbbd5-8930-4770-871d-95cc49de44ab",
    "_execution_state": "idle",
    "_uuid": "6f1088b3c16e7633ea6017be6c2acfffbe81d2aa"
   },
   "outputs": [],
   "source": [
    "plt.figure(figsize=(12,8))\n",
    "sns.countplot(x=\"pickup_weekday_name\", data=df_train)\n",
    "plt.show()"
   ]
  },
  {
   "cell_type": "code",
   "execution_count": null,
   "metadata": {
    "_cell_guid": "14f594c3-406b-4687-98e3-20a847fafdab",
    "_execution_state": "idle",
    "_uuid": "b547b06288e50db04a2b47167b329545e4dea288"
   },
   "outputs": [],
   "source": [
    "plt.figure(figsize=(12,8))\n",
    "sns.countplot(x=\"pickup_hour\", data=df_train)\n",
    "plt.show()"
   ]
  },
  {
   "cell_type": "code",
   "execution_count": null,
   "metadata": {
    "_cell_guid": "87e94881-c84c-490f-9817-cb702caf09d0",
    "_execution_state": "idle",
    "_uuid": "209291cb99bb53950c417fd888c87821a258ae7c"
   },
   "outputs": [],
   "source": [
    "plt.figure(figsize=(12,8))\n",
    "sns.countplot(x=\"pickup_month\", data=df_train)\n",
    "plt.show()"
   ]
  },
  {
   "cell_type": "markdown",
   "metadata": {
    "_cell_guid": "44874aed-d8f0-4d50-8d92-dd5e0aa3a579",
    "_uuid": "be6429e783aad25d88783649020418f6bf95f2a9"
   },
   "source": [
    "_It would now be interesting to visualize the behaviour of the trip duration variable, based on the timestamp features._"
   ]
  },
  {
   "cell_type": "code",
   "execution_count": null,
   "metadata": {
    "_cell_guid": "ef4300a4-1c1c-4c46-8c98-255293dbfdcf",
    "_execution_state": "idle",
    "_uuid": "e15d78e1e8ef0da058d14a9f0dc8c8995252dbfd"
   },
   "outputs": [],
   "source": []
  },
  {
   "cell_type": "markdown",
   "metadata": {
    "_cell_guid": "114c305b-6cef-4d4e-afbb-784c69d987a2",
    "_uuid": "c3e64971a1065e55af7da9baf4f705ae59013b1d"
   },
   "source": [
    "### 3.8 Exploring the behaviour of trip_duration based on the number of trips for each timestamp feature in the train dataset"
   ]
  },
  {
   "cell_type": "markdown",
   "metadata": {
    "_cell_guid": "8310e729-f4f0-45f1-b9d4-b39ea7983822",
    "_uuid": "99b2517d1bd208ba549270212f208559ffad326d"
   },
   "source": [
    "_In order to visualize the trip duration behaviour, it would be important to aggregate the trip duration at each of the timnestamp feature levels. Since there could be outliers in the trip duration variable(and outlier detection has not yet been performed for this variable) median would be a more representative measure, rather than the mean._"
   ]
  },
  {
   "cell_type": "code",
   "execution_count": null,
   "metadata": {
    "_cell_guid": "6bbb3a35-7d57-446a-a48d-2583e0676532",
    "_execution_state": "idle",
    "_uuid": "e59b6a78f21de18ed305b0ec346ddfb6b84c7ae7"
   },
   "outputs": [],
   "source": [
    "df_train.trip_duration.describe()"
   ]
  },
  {
   "cell_type": "code",
   "execution_count": null,
   "metadata": {
    "_cell_guid": "0f6eed65-6ff4-4297-977e-93d339593990",
    "_execution_state": "idle",
    "_uuid": "786c58b9d5484e80ce19616525110975e42afda7"
   },
   "outputs": [],
   "source": [
    "df_train_agg = df_train.groupby('pickup_weekday_name')['trip_duration'].aggregate(np.median).reset_index()\n",
    "\n",
    "plt.figure(figsize=(12,8))\n",
    "sns.pointplot(df_train_agg.pickup_weekday_name.values, df_train_agg.trip_duration.values)\n",
    "plt.show()"
   ]
  },
  {
   "cell_type": "code",
   "execution_count": null,
   "metadata": {
    "_cell_guid": "b9895c2e-282b-4326-895e-22e0f198b8d3",
    "_execution_state": "idle",
    "_uuid": "bf872412ccd361d906f4b43c7938103d41afe271"
   },
   "outputs": [],
   "source": [
    "df_train.groupby('pickup_weekday_name')['trip_duration'].describe()"
   ]
  },
  {
   "cell_type": "code",
   "execution_count": null,
   "metadata": {
    "_cell_guid": "6f6fb2da-c87a-40ac-80a6-586daa9028bd",
    "_execution_state": "idle",
    "_uuid": "22459dca8d4d1db8d3d94d41b8ba104e63e4d029"
   },
   "outputs": [],
   "source": [
    "df_train_agg = df_train.groupby('pickup_hour')['trip_duration'].aggregate(np.median).reset_index()\n",
    "\n",
    "plt.figure(figsize=(12,8))\n",
    "sns.pointplot(df_train_agg.pickup_hour.values, df_train_agg.trip_duration.values)\n",
    "plt.show()"
   ]
  },
  {
   "cell_type": "code",
   "execution_count": null,
   "metadata": {
    "_cell_guid": "ea4fa0d5-920b-4162-b576-d94765bb9313",
    "_execution_state": "idle",
    "_uuid": "182c7381f925d0a954081b081fe4ac1d8288419a"
   },
   "outputs": [],
   "source": [
    "df_train.groupby('pickup_hour')['trip_duration'].describe()"
   ]
  },
  {
   "cell_type": "code",
   "execution_count": null,
   "metadata": {
    "_cell_guid": "7dd9a53c-71ef-42d8-bcf5-a0aca3e9b67d",
    "_execution_state": "idle",
    "_uuid": "f20588feba3bd9697d869602e61992f792cfedad"
   },
   "outputs": [],
   "source": [
    "df_train_agg = df_train.groupby('pickup_month')['trip_duration'].aggregate(np.median).reset_index()\n",
    "\n",
    "plt.figure(figsize=(12,8))\n",
    "sns.pointplot(df_train_agg.pickup_month.values, df_train_agg.trip_duration.values)\n",
    "plt.show()"
   ]
  },
  {
   "cell_type": "code",
   "execution_count": null,
   "metadata": {
    "_cell_guid": "d771e1b4-c8d1-4354-91b2-308302292cbf",
    "_execution_state": "idle",
    "_uuid": "c84f3c99d4b478c6bf8f436be6b2b796c6cce7bb"
   },
   "outputs": [],
   "source": [
    "df_train.groupby('pickup_month')['trip_duration'].describe()"
   ]
  },
  {
   "cell_type": "markdown",
   "metadata": {
    "_cell_guid": "16852d33-c2e0-4414-bb0b-2f123f22775f",
    "_uuid": "0a99de88063e42362aa131905460c0a75431a016"
   },
   "source": [
    "* Observation at a week-level:\n",
    "\n",
    "_Trip durations are the most on Thursday's, Wednesday's and Friday's & the least on Sunday's._\n",
    "\n",
    "\n",
    "* Observation at an hour-level:\n",
    "\n",
    "_Trip durations are the most between 11:00 hrs and 16:00 hrs & the least between 04:00 hrs and 07:00 hrs._\n",
    "\n",
    "* Observation at a month-level:\n",
    "\n",
    "_There seems to be a linear increase in the median trip duration from the month of January to the month of June, although the increase is fairly minimal._"
   ]
  },
  {
   "cell_type": "code",
   "execution_count": null,
   "metadata": {
    "_cell_guid": "200a9f84-ddc3-4472-99ec-71cb1759d119",
    "_execution_state": "idle",
    "_uuid": "8d7f4dd90813c94c233d0c08a291c3e17fc57bee"
   },
   "outputs": [],
   "source": []
  }
 ],
 "metadata": {
  "kernelspec": {
   "display_name": "Python 3",
   "language": "python",
   "name": "python3"
  },
  "language_info": {
   "codemirror_mode": {
    "name": "ipython",
    "version": 3
   },
   "file_extension": ".py",
   "mimetype": "text/x-python",
   "name": "python",
   "nbconvert_exporter": "python",
   "pygments_lexer": "ipython3",
   "version": "3.6.4"
  }
 },
 "nbformat": 4,
 "nbformat_minor": 2
}
